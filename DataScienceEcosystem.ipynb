{
 "cells": [
  {
   "cell_type": "markdown",
   "id": "fcf826c0-0c8a-4021-a38f-e0fe4b8c4135",
   "metadata": {},
   "source": [
    "# Data Science Tools and Ecosystems"
   ]
  },
  {
   "cell_type": "markdown",
   "id": "05609dcd-caf6-4d9b-ac8f-22373000e909",
   "metadata": {},
   "source": [
    "In this notebook, Data Science Tools and Ecosystems are Summarized. "
   ]
  },
  {
   "cell_type": "markdown",
   "id": "6ed940c9-3e6d-44e1-b5af-6b9c8e4f6b94",
   "metadata": {},
   "source": [
    "Some of the popular languages that Data Scientists use are: \n",
    "1. Python\n",
    "2. JavaScript\n",
    "3. R. \n",
    "4. SQL. "
   ]
  },
  {
   "cell_type": "markdown",
   "id": "ff9e10f6-6459-4f63-84ea-0e06c32013d5",
   "metadata": {},
   "source": [
    "Some of the commonly used libraries used by Data Scientists include: \n",
    "1. Pandas\n",
    "2. NumPy\n",
    "3. PyTorch"
   ]
  },
  {
   "cell_type": "markdown",
   "id": "4890f867-35da-479b-a53e-7104b3b58dc4",
   "metadata": {},
   "source": [
    "|Data Science Tools|\n",
    "|------------------|\n",
    "|RStudio|\n",
    "|Apache Spark|\n",
    "|TensorFlow|"
   ]
  },
  {
   "cell_type": "markdown",
   "id": "20129ef6-31eb-43a6-b1cc-9e3ca5aeabd7",
   "metadata": {},
   "source": [
    "### Below are a few examples of evaluating arithmetic expressions in Python"
   ]
  },
  {
   "cell_type": "code",
   "execution_count": 9,
   "id": "53ec9e2a-dfda-40e0-a5bc-92d90ecfa0de",
   "metadata": {
    "tags": []
   },
   "outputs": [
    {
     "data": {
      "text/plain": [
       "17"
      ]
     },
     "execution_count": 9,
     "metadata": {},
     "output_type": "execute_result"
    }
   ],
   "source": [
    "# This is a simple arithmetic expression to multiply then add integers\n",
    "(3*4)+5"
   ]
  },
  {
   "cell_type": "code",
   "execution_count": 19,
   "id": "001be40d-2f78-4602-b085-1ae97d830123",
   "metadata": {
    "tags": []
   },
   "outputs": [
    {
     "data": {
      "text/plain": [
       "3.3333333333333335"
      ]
     },
     "execution_count": 19,
     "metadata": {},
     "output_type": "execute_result"
    }
   ],
   "source": [
    "# This will convert 200 minutes to hours by dividing by 60\n",
    "Minutes=200\n",
    "Hours=(60)\n",
    "Minutes/Hours\n"
   ]
  },
  {
   "cell_type": "markdown",
   "id": "2c4ad0c7-152c-4a6e-9399-a68b83f6da9c",
   "metadata": {},
   "source": [
    "**Objectives:**\n",
    "- List Popular Languages for Data Science\n",
    "- List Commonly used Libraries for Data Science\n",
    "- Create Arithmetic Expressions to multiply then add integers"
   ]
  },
  {
   "cell_type": "markdown",
   "id": "acce7ca7-52b8-426a-8684-6536a82f16be",
   "metadata": {},
   "source": [
    "## Author\n",
    "Alexander Hotchkiss"
   ]
  },
  {
   "cell_type": "code",
   "execution_count": null,
   "id": "bb5c6a52-41ce-428d-86a4-1b09d631ffa6",
   "metadata": {},
   "outputs": [],
   "source": []
  }
 ],
 "metadata": {
  "kernelspec": {
   "display_name": "Python",
   "language": "python",
   "name": "conda-env-python-py"
  },
  "language_info": {
   "codemirror_mode": {
    "name": "ipython",
    "version": 3
   },
   "file_extension": ".py",
   "mimetype": "text/x-python",
   "name": "python",
   "nbconvert_exporter": "python",
   "pygments_lexer": "ipython3",
   "version": "3.7.12"
  }
 },
 "nbformat": 4,
 "nbformat_minor": 5
}
